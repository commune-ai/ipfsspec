{
 "cells": [
  {
   "cell_type": "code",
   "execution_count": 1,
   "id": "6266ba01-c9ce-45e6-9819-79580a88647a",
   "metadata": {},
   "outputs": [
    {
     "name": "stdout",
     "output_type": "stream",
     "text": [
      "Changed to local node\n"
     ]
    }
   ],
   "source": [
    "import fsspec\n",
    "import os\n",
    "from ipfsspec.asyn import AsyncIPFSFileSystem\n",
    "from fsspec import register_implementation\n",
    "import asyncio\n",
    "import io\n",
    "import glob\n",
    "\n",
    "# register_implementation(IPFSFileSystem.protocol, IPFSFileSystem)\n",
    "register_implementation(AsyncIPFSFileSystem.protocol, AsyncIPFSFileSystem)\n",
    "\n",
    "# with fsspec.open(\"ipfs://QmZ4tDuvesekSs4qM5ZBKpXiZGun7S2CYtEZRB3DYXkjGx\", \"r\") as f:\n",
    "#     print(f.read())\n",
    "class fs:\n",
    "    ipfs = fsspec.filesystem(\"ipfs\")\n",
    "    file = fsspec.filesystem(\"file\")"
   ]
  },
  {
   "cell_type": "markdown",
   "id": "35a5a479",
   "metadata": {},
   "source": [
    "# Changing Gateways"
   ]
  },
  {
   "cell_type": "code",
   "execution_count": 2,
   "id": "83fadcc1",
   "metadata": {},
   "outputs": [
    {
     "name": "stdout",
     "output_type": "stream",
     "text": [
      "Changed to public node\n"
     ]
    }
   ],
   "source": [
    "fs.ipfs.change_gateway_type = 'public'"
   ]
  },
  {
   "cell_type": "code",
   "execution_count": 3,
   "id": "e471c580",
   "metadata": {},
   "outputs": [
    {
     "data": {
      "text/plain": [
       "[(<ipfsspec.gateway.GatewayState at 0x7f3834776700>,\n",
       "  <ipfsspec.gateway.AsyncIPFSGateway at 0x7f38347765e0>),\n",
       " (<ipfsspec.gateway.GatewayState at 0x7f3816c26460>,\n",
       "  <ipfsspec.gateway.AsyncIPFSGateway at 0x7f38347769a0>),\n",
       " (<ipfsspec.gateway.GatewayState at 0x7f3816c26550>,\n",
       "  <ipfsspec.gateway.AsyncIPFSGateway at 0x7f38347764f0>),\n",
       " (<ipfsspec.gateway.GatewayState at 0x7f3816c265b0>,\n",
       "  <ipfsspec.gateway.AsyncIPFSGateway at 0x7f3834776760>)]"
      ]
     },
     "execution_count": 3,
     "metadata": {},
     "output_type": "execute_result"
    }
   ],
   "source": [
    "fs.ipfs.gateway.gws"
   ]
  },
  {
   "cell_type": "code",
   "execution_count": 4,
   "id": "806d4d5e",
   "metadata": {},
   "outputs": [
    {
     "data": {
      "text/plain": [
       "'https://ipfs.io'"
      ]
     },
     "execution_count": 4,
     "metadata": {},
     "output_type": "execute_result"
    }
   ],
   "source": [
    "fs.ipfs.gateway.gws[0][1].url"
   ]
  },
  {
   "cell_type": "code",
   "execution_count": 5,
   "id": "d0886858",
   "metadata": {},
   "outputs": [
    {
     "name": "stdout",
     "output_type": "stream",
     "text": [
      "Changed to local node\n"
     ]
    }
   ],
   "source": [
    "fs.ipfs.change_gateway_type = 'local'"
   ]
  },
  {
   "cell_type": "code",
   "execution_count": 6,
   "id": "b11c7527",
   "metadata": {},
   "outputs": [
    {
     "data": {
      "text/plain": [
       "'http://ipfs:8080'"
      ]
     },
     "execution_count": 6,
     "metadata": {},
     "output_type": "execute_result"
    }
   ],
   "source": [
    "fs.ipfs.gateway.gws[0][1].url"
   ]
  },
  {
   "cell_type": "markdown",
   "id": "6c438925",
   "metadata": {},
   "source": [
    "# Local"
   ]
  },
  {
   "cell_type": "markdown",
   "id": "7484e3aa-0f67-4550-a74d-2fde212ccf3d",
   "metadata": {},
   "source": [
    "## Put"
   ]
  },
  {
   "cell_type": "markdown",
   "id": "e7231dc3-1a89-4fa5-8d76-731b91a44c79",
   "metadata": {},
   "source": [
    "#### Put File"
   ]
  },
  {
   "cell_type": "code",
   "execution_count": 7,
   "id": "4786e066-5a47-4dfa-b373-7f345fa20054",
   "metadata": {},
   "outputs": [
    {
     "data": {
      "text/plain": [
       "['/test_put_file/yo.txt']"
      ]
     },
     "execution_count": 7,
     "metadata": {},
     "output_type": "execute_result"
    }
   ],
   "source": [
    "# put in a file and store it into test folder 'fam'\n",
    "put_file_res = fs.ipfs.put(path='test/data/input/yo.txt', rpath='/test_put_file')\n",
    "fs.ipfs.expand_path('/test_put_file/yo.txt')"
   ]
  },
  {
   "cell_type": "markdown",
   "id": "44f406e6-fb32-4331-8ed5-b09a7d227bdc",
   "metadata": {},
   "source": [
    "#### Put Folder"
   ]
  },
  {
   "cell_type": "code",
   "execution_count": 8,
   "id": "5e9e71a1-f304-4afd-a2f1-fc510d9e78f1",
   "metadata": {},
   "outputs": [
    {
     "data": {
      "text/plain": [
       "[{'name': '/test_put_folder/bruh.txt',\n",
       "  'CID': 'QmT9N3Kpo2qg7anf1fvNDFnheSrHat4Xu5fRte7tNG2AYH',\n",
       "  'type': 'file',\n",
       "  'size': 13},\n",
       " {'name': '/test_put_folder/yo.txt',\n",
       "  'CID': 'QmfVErUtH2gi9HB2Z9TNPzBySPBptSeJftYzoRiGaa2v4N',\n",
       "  'type': 'file',\n",
       "  'size': 10}]"
      ]
     },
     "execution_count": 8,
     "metadata": {},
     "output_type": "execute_result"
    }
   ],
   "source": [
    "# put a directory and store it into test folder\n",
    "fs.ipfs.put(path='test/data/input', rpath='/test_put_folder', recursive=True, return_cid=False)\n",
    "fs.ipfs.ls('/test_put_folder')"
   ]
  },
  {
   "cell_type": "markdown",
   "id": "4f9fb7e4",
   "metadata": {},
   "source": [
    "## Cat"
   ]
  },
  {
   "cell_type": "markdown",
   "id": "251147d9",
   "metadata": {},
   "source": [
    "#### Cat File"
   ]
  },
  {
   "cell_type": "code",
   "execution_count": 9,
   "id": "8f04aeab",
   "metadata": {},
   "outputs": [
    {
     "data": {
      "text/plain": [
       "b'yooooooooo'"
      ]
     },
     "execution_count": 9,
     "metadata": {},
     "output_type": "execute_result"
    }
   ],
   "source": [
    "# Given a file CID to cat\n",
    "fs.ipfs.cat('QmfVErUtH2gi9HB2Z9TNPzBySPBptSeJftYzoRiGaa2v4N')"
   ]
  },
  {
   "cell_type": "code",
   "execution_count": 10,
   "id": "396f964b",
   "metadata": {},
   "outputs": [
    {
     "data": {
      "text/plain": [
       "b'yooooooooo'"
      ]
     },
     "execution_count": 10,
     "metadata": {},
     "output_type": "execute_result"
    }
   ],
   "source": [
    "# Given a file mfs to cat\n",
    "fs.ipfs.cat('/test_put_file/yo.txt')"
   ]
  },
  {
   "cell_type": "markdown",
   "id": "f2603f4f",
   "metadata": {},
   "source": [
    "#### Cat Folder"
   ]
  },
  {
   "cell_type": "code",
   "execution_count": 11,
   "id": "e8ba1367-ccd0-40f1-994f-c46bc4daab6f",
   "metadata": {},
   "outputs": [
    {
     "data": {
      "text/plain": [
       "[{'name': '/saved_hf_models',\n",
       "  'CID': 'QmZkHmRuyeBmsn3sjmrjz5onuEL5YVbri2kUSF4DsuzckE',\n",
       "  'type': 'directory',\n",
       "  'size': 0},\n",
       " {'name': '/test',\n",
       "  'CID': 'QmbTrfTyqSzuA6gjuYxVfPmHjRMRipE554L2138HbGdfJV',\n",
       "  'type': 'directory',\n",
       "  'size': 0},\n",
       " {'name': '/test_put_file',\n",
       "  'CID': 'QmXx2fexaqo3d5E6A6pW8VtMKJSHYa19UpVaQEJbKq7md3',\n",
       "  'type': 'directory',\n",
       "  'size': 0},\n",
       " {'name': '/test_put_folder',\n",
       "  'CID': 'QmceYP2Fvmj43jqipWj7M3Tz1ooXCpadVKXLNXuF9qmXzv',\n",
       "  'type': 'directory',\n",
       "  'size': 0},\n",
       " {'name': '/test_rm_file',\n",
       "  'CID': 'QmTUjfjnxAfqTiyVjfDc4DgnViBvFZG6J7RnzcaY9uBoBr',\n",
       "  'type': 'directory',\n",
       "  'size': 0}]"
      ]
     },
     "execution_count": 11,
     "metadata": {},
     "output_type": "execute_result"
    }
   ],
   "source": [
    "fs.ipfs.ls()"
   ]
  },
  {
   "cell_type": "code",
   "execution_count": 12,
   "id": "d44e40e2",
   "metadata": {},
   "outputs": [
    {
     "data": {
      "text/plain": [
       "{'QmceYP2Fvmj43jqipWj7M3Tz1ooXCpadVKXLNXuF9qmXzv/bruh.txt': b'bruuhhhhhhhhh',\n",
       " 'QmceYP2Fvmj43jqipWj7M3Tz1ooXCpadVKXLNXuF9qmXzv/yo.txt': b'yooooooooo'}"
      ]
     },
     "execution_count": 12,
     "metadata": {},
     "output_type": "execute_result"
    }
   ],
   "source": [
    "# Given a directory CID to cat\n",
    "fs.ipfs.cat('QmceYP2Fvmj43jqipWj7M3Tz1ooXCpadVKXLNXuF9qmXzv')"
   ]
  },
  {
   "cell_type": "code",
   "execution_count": 13,
   "id": "db8c9954",
   "metadata": {},
   "outputs": [
    {
     "data": {
      "text/plain": [
       "{'/test_put_folder/bruh.txt': b'bruuhhhhhhhhh',\n",
       " '/test_put_folder/yo.txt': b'yooooooooo'}"
      ]
     },
     "execution_count": 13,
     "metadata": {},
     "output_type": "execute_result"
    }
   ],
   "source": [
    "# Given a file mfs to cat\n",
    "fs.ipfs.cat('/test_put_folder')"
   ]
  },
  {
   "cell_type": "markdown",
   "id": "6cf8ea27",
   "metadata": {},
   "source": [
    "## Remove"
   ]
  },
  {
   "cell_type": "markdown",
   "id": "84a21d38-c952-4933-8add-94395198ac1c",
   "metadata": {},
   "source": [
    "#### Remove File"
   ]
  },
  {
   "cell_type": "code",
   "execution_count": 14,
   "id": "30177df7-d12c-4220-bf70-6d7ba47b877a",
   "metadata": {},
   "outputs": [
    {
     "name": "stdout",
     "output_type": "stream",
     "text": [
      "Before:  ['/test_rm_file/yo.txt']\n",
      "After:  []\n"
     ]
    }
   ],
   "source": [
    "fs.ipfs.put(path='test/data/input/yo.txt', rpath='/test_rm_file' ,recursive=False, return_cid=False)\n",
    "print('Before: ',fs.ipfs.ls('/test_rm_file', detail=False))\n",
    "fs.ipfs.rm('/test_rm_file/yo.txt')\n",
    "print('After: ',fs.ipfs.ls('/test_rm_file', detail=False))"
   ]
  },
  {
   "cell_type": "markdown",
   "id": "21f44bd4-ed2d-41d8-8fa5-f1ad43d6bb83",
   "metadata": {},
   "source": [
    "#### Remove Folder"
   ]
  },
  {
   "cell_type": "code",
   "execution_count": 15,
   "id": "02c91d7f-8ada-4069-8a58-515e6f5ba6dd",
   "metadata": {},
   "outputs": [
    {
     "name": "stdout",
     "output_type": "stream",
     "text": [
      "Before:  ['/test_rm_folder/bruh.txt', '/test_rm_folder/dataset', '/test_rm_folder/hf', '/test_rm_folder/input', '/test_rm_folder/model', '/test_rm_folder/yo.txt']\n",
      "After:  []\n"
     ]
    }
   ],
   "source": [
    "fs.ipfs.put(path='test/data', rpath='/test_rm_folder', recursive=True, return_cid=False)\n",
    "print('Before: ',fs.ipfs.ls('/test_rm_folder', detail=False))\n",
    "fs.ipfs.rm('/test_rm_folder')\n",
    "print('After: ',fs.ipfs.ls('/test_rm_folder', detail=False))"
   ]
  },
  {
   "cell_type": "markdown",
   "id": "9349a56c-af22-446e-b4d4-e79378f7d97a",
   "metadata": {},
   "source": [
    "## Get"
   ]
  },
  {
   "cell_type": "markdown",
   "id": "e4fa6d4c-ff09-4ff1-b364-1c43c640611a",
   "metadata": {},
   "source": [
    "#### Get Remote File - local CID Path"
   ]
  },
  {
   "cell_type": "code",
   "execution_count": 16,
   "id": "8a27481f-e25e-414e-b293-17d1352dfe70",
   "metadata": {},
   "outputs": [
    {
     "name": "stdout",
     "output_type": "stream",
     "text": [
      "Changed to local node\n",
      "Before:  []\n",
      "After:  ['test/data/output/QmfVErUtH2gi9HB2Z9TNPzBySPBptSeJftYzoRiGaa2v4N']\n"
     ]
    }
   ],
   "source": [
    "def test_get_local_cid(lpath = 'test/data/input/yo.txt', rpath='/test_get_file',out_lpath = 'test/data/output' ):\n",
    "    fs.ipfs.change_gateway_type = 'local'\n",
    "    if fs.file.exists(out_lpath):\n",
    "        fs.file.rm(out_lpath, recursive=True)\n",
    "    fs.ipfs.rm(rpath, recursive=True)\n",
    "    cid = fs.ipfs.put(lpath=lpath, rpath=rpath)\n",
    "    print('Before: ', [p.lstrip(os.getcwd()) for p in fs.file.glob(f'{out_lpath}/*')])\n",
    "    fs.ipfs.get(rpath=cid, lpath=out_lpath,recursive=True, return_cid=False)\n",
    "    print('After: ', [p.lstrip(os.getcwd()) for p in fs.file.glob(f'{out_lpath}/*')])\n",
    "    fs.ipfs.rm(rpath, recursive=True)\n",
    "\n",
    "test_get_local_cid()"
   ]
  },
  {
   "cell_type": "markdown",
   "id": "be44d929-5b3e-4aba-af7c-8085acd3b1b5",
   "metadata": {},
   "source": [
    "#### Get Remote File - Public CID Path"
   ]
  },
  {
   "cell_type": "code",
   "execution_count": 17,
   "id": "d733e8be-c9b3-4b80-8677-65d95d5980ca",
   "metadata": {},
   "outputs": [
    {
     "data": {
      "text/plain": [
       "{'name': 'QmP8jTG1m9GSDJLCbeWhVSVgEzCPPwXRdCRuJtQ5Tz9Kc9',\n",
       " 'size': 1139,\n",
       " 'ETag': 'QmP8jTG1m9GSDJLCbeWhVSVgEzCPPwXRdCRuJtQ5Tz9Kc9',\n",
       " 'type': 'file',\n",
       " 'CID': 'QmP8jTG1m9GSDJLCbeWhVSVgEzCPPwXRdCRuJtQ5Tz9Kc9'}"
      ]
     },
     "execution_count": 17,
     "metadata": {},
     "output_type": "execute_result"
    }
   ],
   "source": [
    "fs.ipfs.info('QmP8jTG1m9GSDJLCbeWhVSVgEzCPPwXRdCRuJtQ5Tz9Kc9')"
   ]
  },
  {
   "cell_type": "code",
   "execution_count": 18,
   "id": "258b1da8-e3c8-4859-9a3b-6c4e356a633e",
   "metadata": {},
   "outputs": [
    {
     "name": "stdout",
     "output_type": "stream",
     "text": [
      "Before:  []\n",
      "After:  ['test/data/output/QmP8jTG1m9GSDJLCbeWhVSVgEzCPPwXRdCRuJtQ5Tz9Kc9']\n"
     ]
    }
   ],
   "source": [
    "def test_get_public_cid(cid='QmP8jTG1m9GSDJLCbeWhVSVgEzCPPwXRdCRuJtQ5Tz9Kc9', \n",
    "                        rpath='/test_get_file',\n",
    "                        out_lpath = 'test/data/output', \n",
    "                        gateway_type=None):\n",
    "    if gateway_type:\n",
    "        fs.ipfs.change_gateway_type = 'local'\n",
    "    if fs.file.exists(out_lpath):\n",
    "        fs.file.rm(out_lpath, recursive=True)\n",
    "    fs.ipfs.rm(rpath, recursive=True)\n",
    "    print('Before: ', [p.lstrip(os.getcwd()) for p in fs.file.glob(f'{out_lpath}/*')])\n",
    "    fs.ipfs.get(rpath=cid, lpath=out_lpath,recursive=True, return_cid=False)\n",
    "    print('After: ', [p.lstrip(os.getcwd()) for p in fs.file.glob(f'{out_lpath}/*')])\n",
    "    fs.ipfs.rm(rpath, recursive=True)\n",
    "\n",
    "test_get_public_cid()"
   ]
  },
  {
   "cell_type": "markdown",
   "id": "2482eb2b-1e63-407e-b5a8-e222d33a5cbd",
   "metadata": {},
   "source": [
    "#### Get Remote File - MFS Path"
   ]
  },
  {
   "cell_type": "code",
   "execution_count": 19,
   "id": "26252c33-ce41-4214-be91-dd80e9e4a072",
   "metadata": {},
   "outputs": [
    {
     "name": "stdout",
     "output_type": "stream",
     "text": [
      "Changed to local node\n",
      "Before:  []\n",
      "After:  ['test/data/output/yo.txt']\n"
     ]
    }
   ],
   "source": [
    "def test_get_mfs(lpath = 'test/data/input/yo.txt', rpath='/test_get_file',out_lpath = 'test/data/output' ):\n",
    "    fs.ipfs.change_gateway_type = 'local'\n",
    "    if fs.file.exists(out_lpath):\n",
    "        fs.file.rm(out_lpath, recursive=True)\n",
    "    fs.ipfs.rm(rpath, recursive=True)\n",
    "    cid = fs.ipfs.put(lpath=lpath, rpath=rpath)\n",
    "    print('Before: ', [p.lstrip(os.getcwd()) for p in fs.file.glob(f'{out_lpath}/*')])\n",
    "    fs.ipfs.get(rpath=rpath, lpath=out_lpath,recursive=True, return_cid=False)\n",
    "    print('After: ', [p.lstrip(os.getcwd()) for p in fs.file.glob(f'{out_lpath}/*')])\n",
    "    fs.ipfs.rm(rpath, recursive=True)\n",
    "\n",
    "test_get_mfs()"
   ]
  },
  {
   "cell_type": "markdown",
   "id": "5406371e-9dfd-43cc-a3d0-65d97c5a87b5",
   "metadata": {},
   "source": [
    "#### Get Remote Folder - MFS Path"
   ]
  },
  {
   "cell_type": "code",
   "execution_count": 20,
   "id": "bfbf56ef-496a-4aef-ae82-5520300862bb",
   "metadata": {},
   "outputs": [
    {
     "name": "stdout",
     "output_type": "stream",
     "text": [
      "Before:  []\n",
      "After:  ['test/data/output/bruh.txt', 'test/data/output/yo.txt']\n"
     ]
    }
   ],
   "source": [
    "if fs.file.exists('test/data/output'):\n",
    "    fs.file.rm('test/data/output', recursive=True)\n",
    "    \n",
    "fs.ipfs.put(lpath='test/data/input', rpath='/test_get_folder')\n",
    "print('Before: ', [p.lstrip(os.getcwd()) for p in fs.file.glob('test/data/output/*.txt')])\n",
    "fs.ipfs.get(rpath='/test_get_folder', lpath='test/data/output',recursive=True, return_cid=False)\n",
    "print('After: ', [p.lstrip(os.getcwd()) for p in fs.file.glob('test/data/output/*.txt')])\n"
   ]
  },
  {
   "cell_type": "markdown",
   "id": "5525b457",
   "metadata": {},
   "source": [
    "#### Get Remote Folder - CID Path"
   ]
  },
  {
   "cell_type": "code",
   "execution_count": 23,
   "id": "6310f84b",
   "metadata": {},
   "outputs": [
    {
     "name": "stdout",
     "output_type": "stream",
     "text": [
      "QmceYP2Fvmj43jqipWj7M3Tz1ooXCpadVKXLNXuF9qmXzv\n",
      "Before:  []\n",
      "After:  ['test/data/output/bruh.txt', 'test/data/output/yo.txt']\n"
     ]
    }
   ],
   "source": [
    "if fs.file.exists('test/data/output'):\n",
    "    fs.file.rm('test/data/output', recursive=True)\n",
    "    \n",
    "cid = fs.ipfs.put(lpath='test/data/input', rpath='/test_get_folder')\n",
    "print(cid)\n",
    "print('Before: ', [p.lstrip(os.getcwd()) for p in fs.file.glob('test/data/output/*.txt')])\n",
    "\n",
    "fs.ipfs.get(rpath='QmceYP2Fvmj43jqipWj7M3Tz1ooXCpadVKXLNXuF9qmXzv', lpath='test/data/output',recursive=True, return_cid=False)\n",
    "print('After: ', [p.lstrip(os.getcwd()) for p in fs.file.glob('test/data/output/*.txt')])"
   ]
  },
  {
   "cell_type": "markdown",
   "id": "09ad675a",
   "metadata": {},
   "source": [
    "# Public"
   ]
  },
  {
   "cell_type": "code",
   "execution_count": 24,
   "id": "af959e52",
   "metadata": {},
   "outputs": [],
   "source": [
    "import fsspec\n",
    "import os\n",
    "from ipfsspec.asyn import AsyncIPFSFileSystem\n",
    "from fsspec import register_implementation\n",
    "import asyncio\n",
    "import io\n",
    "\n",
    "# register_implementation(IPFSFileSystem.protocol, IPFSFileSystem)\n",
    "register_implementation(AsyncIPFSFileSystem.protocol, AsyncIPFSFileSystem)\n",
    "\n",
    "# with fsspec.open(\"ipfs://QmZ4tDuvesekSs4qM5ZBKpXiZGun7S2CYtEZRB3DYXkjGx\", \"r\") as f:\n",
    "#     print(f.read())\n",
    "class fs:\n",
    "    ipfs = fsspec.filesystem(\"ipfs\")\n",
    "    file = fsspec.filesystem(\"file\")"
   ]
  },
  {
   "cell_type": "code",
   "execution_count": 25,
   "id": "61e0a57d",
   "metadata": {},
   "outputs": [
    {
     "name": "stdout",
     "output_type": "stream",
     "text": [
      "Changed to public node\n"
     ]
    }
   ],
   "source": [
    "fs.ipfs.change_gateway_type = 'public'"
   ]
  },
  {
   "cell_type": "markdown",
   "id": "877c5e3e",
   "metadata": {},
   "source": [
    "## Cat"
   ]
  },
  {
   "cell_type": "markdown",
   "id": "f7fb2063",
   "metadata": {},
   "source": [
    "#### Cat File"
   ]
  },
  {
   "cell_type": "code",
   "execution_count": 26,
   "id": "effe8a3c",
   "metadata": {},
   "outputs": [
    {
     "data": {
      "text/plain": [
       "b\"About this archive\\nThis is an archive of the Project Apollo Archive, a re-presentation of the public domain NASA-provided Apollo mission imagery as it was originally provided in its raw, high-resolution and unprocessed form by the Johnson Space Center on DVD-R and including from the center's Gateway to Astronaut Photography of Earth web site.\\n\\nDirectory names are base64 encoded names of each of the albums in the archive. This was done in order to handle characters in the album names that aren't valid in directory names.\\n\\nUpdating this archive\\nUse the included apolloarchive.py script. Before running, you will need to `pip install flickrapi`. The script also needs to have an API key and secret specified.\\n\\nIf you don't already have one, you can apply for a non-commercial flickr API at https://www.flickr.com/services/apps/create/apply.\\n\\nUpdating the frontend\\nThe frontend lives in the frontend directory and can be updated using the build_frontend_index.py script. This script will update/create the frontend.html page as well as pages for each of the albums. It will also generate thumbnails in the frontend/thumbnails directory.\\n\""
      ]
     },
     "execution_count": 26,
     "metadata": {},
     "output_type": "execute_result"
    }
   ],
   "source": [
    "# Given a file CID to cat\n",
    "cid_file = 'QmP8jTG1m9GSDJLCbeWhVSVgEzCPPwXRdCRuJtQ5Tz9Kc9'\n",
    "fs.ipfs.cat(cid_file)"
   ]
  },
  {
   "cell_type": "markdown",
   "id": "48ede6fa",
   "metadata": {},
   "source": [
    "#### Cat Folder"
   ]
  },
  {
   "cell_type": "code",
   "execution_count": 27,
   "id": "91118b44-6a6e-45bc-b79a-a3ca54d1c1d6",
   "metadata": {},
   "outputs": [
    {
     "data": {
      "text/plain": [
       "[{'name': 'QmQwhnitZWNrVQQ1G8rL4FRvvZBUvHcxCtUreskfnBzvD8/21751523890_3b65b9f030_o.jpg',\n",
       "  'CID': 'QmbgeZnTVXAhW2CS15cjo981P81kULbuUqJ672YEGZUqiM',\n",
       "  'type': 'file',\n",
       "  'size': 386602},\n",
       " {'name': 'QmQwhnitZWNrVQQ1G8rL4FRvvZBUvHcxCtUreskfnBzvD8/21751523890_3b65b9f030_o.jpg.xml',\n",
       "  'CID': 'QmRfG6WQEBXGJge8EQVXbYfYBS25pmhLoaczd5CQxjcT4U',\n",
       "  'type': 'file',\n",
       "  'size': 3513},\n",
       " {'name': 'QmQwhnitZWNrVQQ1G8rL4FRvvZBUvHcxCtUreskfnBzvD8/21878909302_a369c0c4de_o.jpg',\n",
       "  'CID': 'QmXfbZ7H946MeecTWZqcdWKnPwudcqcokTFctJ5LeqMDK3',\n",
       "  'type': 'file',\n",
       "  'size': 1130403},\n",
       " {'name': 'QmQwhnitZWNrVQQ1G8rL4FRvvZBUvHcxCtUreskfnBzvD8/21878909302_a369c0c4de_o.jpg.xml',\n",
       "  'CID': 'QmWxfUFH6ka7P5kMfw3ti3FhRqBpbkgFFY3NyaCZYxbAyM',\n",
       "  'type': 'file',\n",
       "  'size': 1481},\n",
       " {'name': 'QmQwhnitZWNrVQQ1G8rL4FRvvZBUvHcxCtUreskfnBzvD8/22012610182_26af763d9e_o.jpg',\n",
       "  'CID': 'QmQSrnB6Tvs7WvGFx7t3HcmRka6F3ZQFZWWdwJbY79MafL',\n",
       "  'type': 'file',\n",
       "  'size': 311358},\n",
       " {'name': 'QmQwhnitZWNrVQQ1G8rL4FRvvZBUvHcxCtUreskfnBzvD8/22012610182_26af763d9e_o.jpg.xml',\n",
       "  'CID': 'QmYfFNRZeTvnpPfCDD1Pn5P6ApnaoiJvJnhPS92XEKZve2',\n",
       "  'type': 'file',\n",
       "  'size': 1359},\n",
       " {'name': 'QmQwhnitZWNrVQQ1G8rL4FRvvZBUvHcxCtUreskfnBzvD8/_meta.xml',\n",
       "  'CID': 'QmQSuagGCLjLaoSGcHGXEyDdhLvazB6EEtpUYxZKmSTHVZ',\n",
       "  'type': 'file',\n",
       "  'size': 339}]"
      ]
     },
     "execution_count": 27,
     "metadata": {},
     "output_type": "execute_result"
    }
   ],
   "source": [
    "fs.ipfs.ls('QmQwhnitZWNrVQQ1G8rL4FRvvZBUvHcxCtUreskfnBzvD8')"
   ]
  },
  {
   "cell_type": "code",
   "execution_count": 28,
   "id": "de7438ff",
   "metadata": {},
   "outputs": [
    {
     "data": {
      "text/plain": [
       "dict_keys(['QmQwhnitZWNrVQQ1G8rL4FRvvZBUvHcxCtUreskfnBzvD8/21751523890_3b65b9f030_o.jpg', 'QmQwhnitZWNrVQQ1G8rL4FRvvZBUvHcxCtUreskfnBzvD8/21751523890_3b65b9f030_o.jpg.xml', 'QmQwhnitZWNrVQQ1G8rL4FRvvZBUvHcxCtUreskfnBzvD8/21878909302_a369c0c4de_o.jpg', 'QmQwhnitZWNrVQQ1G8rL4FRvvZBUvHcxCtUreskfnBzvD8/21878909302_a369c0c4de_o.jpg.xml', 'QmQwhnitZWNrVQQ1G8rL4FRvvZBUvHcxCtUreskfnBzvD8/22012610182_26af763d9e_o.jpg', 'QmQwhnitZWNrVQQ1G8rL4FRvvZBUvHcxCtUreskfnBzvD8/22012610182_26af763d9e_o.jpg.xml', 'QmQwhnitZWNrVQQ1G8rL4FRvvZBUvHcxCtUreskfnBzvD8/_meta.xml'])"
      ]
     },
     "execution_count": 28,
     "metadata": {},
     "output_type": "execute_result"
    }
   ],
   "source": [
    "# Given a directory CID to cat\n",
    "fs.ipfs.cat('QmQwhnitZWNrVQQ1G8rL4FRvvZBUvHcxCtUreskfnBzvD8', recursive=True).keys() "
   ]
  },
  {
   "cell_type": "markdown",
   "id": "5c438749",
   "metadata": {},
   "source": [
    "## Ls"
   ]
  },
  {
   "cell_type": "markdown",
   "id": "ce3b196e",
   "metadata": {},
   "source": [
    "#### LS Remote File - CID Path \n"
   ]
  },
  {
   "cell_type": "code",
   "execution_count": 29,
   "id": "2c90f2a5",
   "metadata": {},
   "outputs": [
    {
     "data": {
      "text/plain": [
       "[{'name': 'QmQwhnitZWNrVQQ1G8rL4FRvvZBUvHcxCtUreskfnBzvD8/21751523890_3b65b9f030_o.jpg',\n",
       "  'CID': 'QmbgeZnTVXAhW2CS15cjo981P81kULbuUqJ672YEGZUqiM',\n",
       "  'type': 'file',\n",
       "  'size': 386602},\n",
       " {'name': 'QmQwhnitZWNrVQQ1G8rL4FRvvZBUvHcxCtUreskfnBzvD8/21751523890_3b65b9f030_o.jpg.xml',\n",
       "  'CID': 'QmRfG6WQEBXGJge8EQVXbYfYBS25pmhLoaczd5CQxjcT4U',\n",
       "  'type': 'file',\n",
       "  'size': 3513},\n",
       " {'name': 'QmQwhnitZWNrVQQ1G8rL4FRvvZBUvHcxCtUreskfnBzvD8/21878909302_a369c0c4de_o.jpg',\n",
       "  'CID': 'QmXfbZ7H946MeecTWZqcdWKnPwudcqcokTFctJ5LeqMDK3',\n",
       "  'type': 'file',\n",
       "  'size': 1130403},\n",
       " {'name': 'QmQwhnitZWNrVQQ1G8rL4FRvvZBUvHcxCtUreskfnBzvD8/21878909302_a369c0c4de_o.jpg.xml',\n",
       "  'CID': 'QmWxfUFH6ka7P5kMfw3ti3FhRqBpbkgFFY3NyaCZYxbAyM',\n",
       "  'type': 'file',\n",
       "  'size': 1481},\n",
       " {'name': 'QmQwhnitZWNrVQQ1G8rL4FRvvZBUvHcxCtUreskfnBzvD8/22012610182_26af763d9e_o.jpg',\n",
       "  'CID': 'QmQSrnB6Tvs7WvGFx7t3HcmRka6F3ZQFZWWdwJbY79MafL',\n",
       "  'type': 'file',\n",
       "  'size': 311358},\n",
       " {'name': 'QmQwhnitZWNrVQQ1G8rL4FRvvZBUvHcxCtUreskfnBzvD8/22012610182_26af763d9e_o.jpg.xml',\n",
       "  'CID': 'QmYfFNRZeTvnpPfCDD1Pn5P6ApnaoiJvJnhPS92XEKZve2',\n",
       "  'type': 'file',\n",
       "  'size': 1359},\n",
       " {'name': 'QmQwhnitZWNrVQQ1G8rL4FRvvZBUvHcxCtUreskfnBzvD8/_meta.xml',\n",
       "  'CID': 'QmQSuagGCLjLaoSGcHGXEyDdhLvazB6EEtpUYxZKmSTHVZ',\n",
       "  'type': 'file',\n",
       "  'size': 339}]"
      ]
     },
     "execution_count": 29,
     "metadata": {},
     "output_type": "execute_result"
    }
   ],
   "source": [
    "fs.ipfs.ls('QmQwhnitZWNrVQQ1G8rL4FRvvZBUvHcxCtUreskfnBzvD8')"
   ]
  },
  {
   "cell_type": "markdown",
   "id": "2fc2aa24",
   "metadata": {},
   "source": [
    "#### LS Remote Folder - CID Path"
   ]
  },
  {
   "cell_type": "markdown",
   "id": "44c84c9b",
   "metadata": {},
   "source": [
    "## Get"
   ]
  },
  {
   "cell_type": "markdown",
   "id": "7d218d21",
   "metadata": {},
   "source": [
    "#### GET CID File"
   ]
  },
  {
   "cell_type": "code",
   "execution_count": 30,
   "id": "bd02d657",
   "metadata": {},
   "outputs": [
    {
     "name": "stdout",
     "output_type": "stream",
     "text": [
      "Before:  []\n",
      "After:  ['test/data/output/test.png']\n"
     ]
    }
   ],
   "source": [
    "files = glob.glob('test/data/output/*')\n",
    "for f in files:\n",
    "    os.remove(f)\n",
    "    \n",
    "    \n",
    "print('Before: ', [p.lstrip(os.getcwd()) for p in fs.file.glob('test/data/output/*')])\n",
    "fs.ipfs.get(rpath='QmbgeZnTVXAhW2CS15cjo981P81kULbuUqJ672YEGZUqiM', \n",
    "            lpath='test/data/output/test.png', # a filename must be given\n",
    "            recursive=True, \n",
    "            return_cid=False)\n",
    "\n",
    "print('After: ', [p.lstrip(os.getcwd()) for p in fs.file.glob('test/data/output/*')])"
   ]
  },
  {
   "cell_type": "markdown",
   "id": "fef4e248",
   "metadata": {},
   "source": [
    "#### Get Remote Folder - CID Path"
   ]
  },
  {
   "cell_type": "code",
   "execution_count": 31,
   "id": "669edb4c",
   "metadata": {},
   "outputs": [
    {
     "name": "stdout",
     "output_type": "stream",
     "text": [
      "Changed to local node\n",
      "Changed to public node\n",
      "Before:  []\n",
      "After:  ['test/data/output/bruh.txt', 'test/data/output/yo.txt']\n"
     ]
    }
   ],
   "source": [
    "\n",
    "files = glob.glob('test/data/output/*')\n",
    "for f in files:\n",
    "    os.remove(f)\n",
    "    \n",
    "    \n",
    "fs.ipfs.change_gateway_type = 'local'\n",
    "cid = fs.ipfs.put(lpath='test/data/input', rpath='/test_get_folder')\n",
    "fs.ipfs.change_gateway_type = 'public'\n",
    "print('Before: ', [p.lstrip(os.getcwd()) for p in fs.file.glob('test/data/output/*.txt')])\n",
    "\n",
    "fs.ipfs.get(rpath=cid, lpath='test/data/output',recursive=True, return_cid=False)\n",
    "print('After: ', [p.lstrip(os.getcwd()) for p in fs.file.glob('test/data/output/*.txt')])"
   ]
  },
  {
   "cell_type": "code",
   "execution_count": null,
   "id": "56c9c40e-9c90-4d63-a498-8614268851c3",
   "metadata": {},
   "outputs": [],
   "source": []
  }
 ],
 "metadata": {
  "kernelspec": {
   "display_name": "Python 3 (ipykernel)",
   "language": "python",
   "name": "python3"
  },
  "language_info": {
   "codemirror_mode": {
    "name": "ipython",
    "version": 3
   },
   "file_extension": ".py",
   "mimetype": "text/x-python",
   "name": "python",
   "nbconvert_exporter": "python",
   "pygments_lexer": "ipython3",
   "version": "3.8.2"
  }
 },
 "nbformat": 4,
 "nbformat_minor": 5
}

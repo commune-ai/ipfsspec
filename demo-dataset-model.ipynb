{
 "cells": [
  {
   "cell_type": "code",
   "execution_count": 1,
   "id": "ae35d6c0",
   "metadata": {},
   "outputs": [
    {
     "name": "stdout",
     "output_type": "stream",
     "text": [
      "Changed to local node\n"
     ]
    }
   ],
   "source": [
    "import fsspec\n",
    "import os\n",
    "from ipfsspec.asyn import AsyncIPFSFileSystem\n",
    "from fsspec import register_implementation\n",
    "import asyncio\n",
    "import io\n",
    "\n",
    "# register_implementation(IPFSFileSystem.protocol, IPFSFileSystem)\n",
    "register_implementation(AsyncIPFSFileSystem.protocol, AsyncIPFSFileSystem)\n",
    "\n",
    "# with fsspec.open(\"ipfs://QmZ4tDuvesekSs4qM5ZBKpXiZGun7S2CYtEZRB3DYXkjGx\", \"r\") as f:\n",
    "#     print(f.read())\n",
    "class fs:\n",
    "    ipfs = fsspec.filesystem(\"ipfs\")\n",
    "    file = fsspec.filesystem(\"file\")"
   ]
  },
  {
   "cell_type": "code",
   "execution_count": 2,
   "id": "9940a5d5",
   "metadata": {},
   "outputs": [
    {
     "name": "stdout",
     "output_type": "stream",
     "text": [
      "Changed to local node\n"
     ]
    }
   ],
   "source": [
    "fs.ipfs.change_gateway_type = 'local'"
   ]
  },
  {
   "cell_type": "markdown",
   "id": "dc008528",
   "metadata": {},
   "source": [
    "## Adding a csv dataset to IPFS"
   ]
  },
  {
   "cell_type": "code",
   "execution_count": 3,
   "id": "8791b11c",
   "metadata": {},
   "outputs": [
    {
     "data": {
      "text/plain": [
       "'QmZnxARhJWsCbTxiAzoRhnxHgMtoEkNJNS8DGLCBEMvm4V'"
      ]
     },
     "execution_count": 3,
     "metadata": {},
     "output_type": "execute_result"
    }
   ],
   "source": [
    "fs.ipfs.put(path='test/data/dataset/input/adult_data.csv', rpath='/test_dataset')"
   ]
  },
  {
   "cell_type": "markdown",
   "id": "39a69f50",
   "metadata": {},
   "source": [
    "## Retrieving a dataset from IPFS"
   ]
  },
  {
   "cell_type": "code",
   "execution_count": 4,
   "id": "865d2733",
   "metadata": {},
   "outputs": [
    {
     "name": "stdout",
     "output_type": "stream",
     "text": [
      "Before:  []\n",
      "After:  ['test/data/dataset/output/adult_data.csv']\n"
     ]
    }
   ],
   "source": [
    "if fs.file.exists('test/data/dataset/output/adult_data.csv'):\n",
    "    fs.file.rm('test/data/dataset/output/adult_data.csv', recursive=True)\n",
    "    \n",
    "print('Before: ', [p.lstrip(os.getcwd()) for p in fs.file.glob('test/data/dataset/output/*')])\n",
    "\n",
    "fs.ipfs.get(rpath='QmZnxARhJWsCbTxiAzoRhnxHgMtoEkNJNS8DGLCBEMvm4V', \n",
    "            lpath='test/data/dataset/output/adult_data.csv', # a filename must be given\n",
    "            recursive=True, \n",
    "            return_cid=False)\n",
    "\n",
    "print('After: ', [p.lstrip(os.getcwd()) for p in fs.file.glob('test/data/dataset/output/*')])"
   ]
  },
  {
   "cell_type": "markdown",
   "id": "d6d8b459",
   "metadata": {},
   "source": [
    "## Building a tabular model"
   ]
  },
  {
   "cell_type": "code",
   "execution_count": 5,
   "id": "dfa0bbc5",
   "metadata": {
    "scrolled": true
   },
   "outputs": [],
   "source": [
    "from fastai.tabular.all import *"
   ]
  },
  {
   "cell_type": "code",
   "execution_count": 6,
   "id": "74db0bfb",
   "metadata": {},
   "outputs": [],
   "source": [
    "df = pd.read_csv('test/data/dataset/output/adult_data.csv')"
   ]
  },
  {
   "cell_type": "code",
   "execution_count": 7,
   "id": "a0e0f76f",
   "metadata": {},
   "outputs": [],
   "source": [
    "df.columns = [col.strip() for col in df.columns]"
   ]
  },
  {
   "cell_type": "code",
   "execution_count": 8,
   "id": "07c9d55d",
   "metadata": {},
   "outputs": [],
   "source": [
    "splits = RandomSplitter()(range_of(df))\n",
    "cat_names = ['workclass', 'education', 'marital-status', 'occupation', 'relationship', 'race']\n",
    "cont_names = ['age', 'fnlwgt', 'education-num']\n",
    "procs = [Categorify, FillMissing, Normalize]\n",
    "y_names = 'salary'\n",
    "y_block = CategoryBlock()"
   ]
  },
  {
   "cell_type": "code",
   "execution_count": 9,
   "id": "5958d41c",
   "metadata": {},
   "outputs": [],
   "source": [
    "to = TabularPandas(df, procs=procs, cat_names=cat_names, cont_names=cont_names,\n",
    "                   y_names=y_names, y_block=y_block, splits=splits)"
   ]
  },
  {
   "cell_type": "code",
   "execution_count": 10,
   "id": "dcb98423",
   "metadata": {},
   "outputs": [],
   "source": [
    "dls = to.dataloaders(bs=64)"
   ]
  },
  {
   "cell_type": "code",
   "execution_count": 11,
   "id": "d9d73745",
   "metadata": {},
   "outputs": [],
   "source": [
    "learn = tabular_learner(dls, [200,100], metrics=accuracy)"
   ]
  },
  {
   "cell_type": "code",
   "execution_count": 12,
   "id": "17d388c8",
   "metadata": {},
   "outputs": [
    {
     "data": {
      "text/html": [
       "\n",
       "<style>\n",
       "    /* Turns off some styling */\n",
       "    progress {\n",
       "        /* gets rid of default border in Firefox and Opera. */\n",
       "        border: none;\n",
       "        /* Needs to be in here for Safari polyfill so background images work as expected. */\n",
       "        background-size: auto;\n",
       "    }\n",
       "    progress:not([value]), progress:not([value])::-webkit-progress-bar {\n",
       "        background: repeating-linear-gradient(45deg, #7e7e7e, #7e7e7e 10px, #5c5c5c 10px, #5c5c5c 20px);\n",
       "    }\n",
       "    .progress-bar-interrupted, .progress-bar-interrupted::-webkit-progress-bar {\n",
       "        background: #F44336;\n",
       "    }\n",
       "</style>\n"
      ],
      "text/plain": [
       "<IPython.core.display.HTML object>"
      ]
     },
     "metadata": {},
     "output_type": "display_data"
    },
    {
     "data": {
      "text/html": [
       "<table border=\"1\" class=\"dataframe\">\n",
       "  <thead>\n",
       "    <tr style=\"text-align: left;\">\n",
       "      <th>epoch</th>\n",
       "      <th>train_loss</th>\n",
       "      <th>valid_loss</th>\n",
       "      <th>accuracy</th>\n",
       "      <th>time</th>\n",
       "    </tr>\n",
       "  </thead>\n",
       "  <tbody>\n",
       "    <tr>\n",
       "      <td>0</td>\n",
       "      <td>0.380294</td>\n",
       "      <td>0.361464</td>\n",
       "      <td>0.832924</td>\n",
       "      <td>00:12</td>\n",
       "    </tr>\n",
       "    <tr>\n",
       "      <td>1</td>\n",
       "      <td>0.358580</td>\n",
       "      <td>0.353894</td>\n",
       "      <td>0.836609</td>\n",
       "      <td>00:10</td>\n",
       "    </tr>\n",
       "    <tr>\n",
       "      <td>2</td>\n",
       "      <td>0.344878</td>\n",
       "      <td>0.350269</td>\n",
       "      <td>0.839681</td>\n",
       "      <td>00:15</td>\n",
       "    </tr>\n",
       "  </tbody>\n",
       "</table>"
      ],
      "text/plain": [
       "<IPython.core.display.HTML object>"
      ]
     },
     "metadata": {},
     "output_type": "display_data"
    }
   ],
   "source": [
    "learn.fit_one_cycle(3, 1e-3)"
   ]
  },
  {
   "cell_type": "code",
   "execution_count": 13,
   "id": "f7791c17",
   "metadata": {},
   "outputs": [],
   "source": [
    "learn.export('test/data/model/input/testmodel.pkl')"
   ]
  },
  {
   "cell_type": "markdown",
   "id": "40812560",
   "metadata": {},
   "source": [
    "## Adding model+config_files to IPFS"
   ]
  },
  {
   "cell_type": "code",
   "execution_count": 14,
   "id": "9b93a9df",
   "metadata": {},
   "outputs": [
    {
     "data": {
      "text/plain": [
       "'QmdX8AKzfpSo48cDbvaRthrs6BATDQbEDvUarxLskyoTP7'"
      ]
     },
     "execution_count": 14,
     "metadata": {},
     "output_type": "execute_result"
    }
   ],
   "source": [
    "model_cid = fs.ipfs.put(path='test/data/model/input/testmodel.pkl', rpath='/test_model')\n",
    "model_cid"
   ]
  },
  {
   "cell_type": "markdown",
   "id": "0348227f",
   "metadata": {},
   "source": [
    "## Retrieving model+config_files from IPFS"
   ]
  },
  {
   "cell_type": "code",
   "execution_count": 15,
   "id": "af76cbe3",
   "metadata": {},
   "outputs": [
    {
     "name": "stdout",
     "output_type": "stream",
     "text": [
      "Before:  []\n",
      "After:  ['test/data/model/output/testmodel.pkl']\n"
     ]
    }
   ],
   "source": [
    "if fs.file.exists('test/data/model/output/testmodel.pkl'):\n",
    "    fs.file.rm('test/data/model/output/testmodel.pkl', recursive=True)\n",
    "    \n",
    "print('Before: ', [p.lstrip(os.getcwd()) for p in fs.file.glob('test/data/model/output/*')])\n",
    "\n",
    "fs.ipfs.get(rpath=model_cid, \n",
    "            lpath='test/data/model/output/testmodel.pkl', # a filename must be given\n",
    "            recursive=True, \n",
    "            return_cid=False)\n",
    "\n",
    "print('After: ', [p.lstrip(os.getcwd()) for p in fs.file.glob('test/data/model/output/*')])"
   ]
  },
  {
   "cell_type": "markdown",
   "id": "3edffc2c",
   "metadata": {},
   "source": [
    "## Doing inference with retrieved model"
   ]
  },
  {
   "cell_type": "code",
   "execution_count": 16,
   "id": "2953c62a",
   "metadata": {},
   "outputs": [],
   "source": [
    "learn = load_learner('test/data/model/output/testmodel.pkl')"
   ]
  },
  {
   "cell_type": "code",
   "execution_count": 17,
   "id": "8820c1e6",
   "metadata": {},
   "outputs": [],
   "source": [
    "dl = learn.dls.test_dl(df.iloc[:10])"
   ]
  },
  {
   "cell_type": "code",
   "execution_count": 18,
   "id": "43cf7998",
   "metadata": {},
   "outputs": [
    {
     "data": {
      "text/html": [
       "\n",
       "<style>\n",
       "    /* Turns off some styling */\n",
       "    progress {\n",
       "        /* gets rid of default border in Firefox and Opera. */\n",
       "        border: none;\n",
       "        /* Needs to be in here for Safari polyfill so background images work as expected. */\n",
       "        background-size: auto;\n",
       "    }\n",
       "    progress:not([value]), progress:not([value])::-webkit-progress-bar {\n",
       "        background: repeating-linear-gradient(45deg, #7e7e7e, #7e7e7e 10px, #5c5c5c 10px, #5c5c5c 20px);\n",
       "    }\n",
       "    .progress-bar-interrupted, .progress-bar-interrupted::-webkit-progress-bar {\n",
       "        background: #F44336;\n",
       "    }\n",
       "</style>\n"
      ],
      "text/plain": [
       "<IPython.core.display.HTML object>"
      ]
     },
     "metadata": {},
     "output_type": "display_data"
    },
    {
     "data": {
      "text/html": [],
      "text/plain": [
       "<IPython.core.display.HTML object>"
      ]
     },
     "metadata": {},
     "output_type": "display_data"
    },
    {
     "data": {
      "text/plain": [
       "(tensor([[0.9597, 0.0403],\n",
       "         [0.3615, 0.6385],\n",
       "         [0.9680, 0.0320],\n",
       "         [0.8451, 0.1549],\n",
       "         [0.3720, 0.6280],\n",
       "         [0.1519, 0.8481],\n",
       "         [0.9848, 0.0152],\n",
       "         [0.4713, 0.5287],\n",
       "         [0.8843, 0.1157],\n",
       "         [0.1715, 0.8285]]),\n",
       " tensor([[0],\n",
       "         [0],\n",
       "         [0],\n",
       "         [0],\n",
       "         [0],\n",
       "         [0],\n",
       "         [0],\n",
       "         [1],\n",
       "         [1],\n",
       "         [1]], dtype=torch.int8))"
      ]
     },
     "execution_count": 18,
     "metadata": {},
     "output_type": "execute_result"
    }
   ],
   "source": [
    "learn.get_preds(dl=dl)"
   ]
  },
  {
   "cell_type": "code",
   "execution_count": null,
   "id": "1cc47cd9-add5-4f7c-9d26-d86b13df0587",
   "metadata": {},
   "outputs": [],
   "source": []
  }
 ],
 "metadata": {
  "kernelspec": {
   "display_name": "Python 3 (ipykernel)",
   "language": "python",
   "name": "python3"
  },
  "language_info": {
   "codemirror_mode": {
    "name": "ipython",
    "version": 3
   },
   "file_extension": ".py",
   "mimetype": "text/x-python",
   "name": "python",
   "nbconvert_exporter": "python",
   "pygments_lexer": "ipython3",
   "version": "3.8.2"
  }
 },
 "nbformat": 4,
 "nbformat_minor": 5
}
